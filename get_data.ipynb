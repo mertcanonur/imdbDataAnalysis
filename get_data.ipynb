{
 "cells": [
  {
   "cell_type": "code",
   "execution_count": 25,
   "id": "26a71e20",
   "metadata": {
    "ExecuteTime": {
     "end_time": "2023-10-08T12:48:28.877955300Z",
     "start_time": "2023-10-08T12:48:28.866992600Z"
    }
   },
   "outputs": [],
   "source": [
    "from bs4 import BeautifulSoup\n",
    "import requests\n",
    "import pandas as pd"
   ]
  },
  {
   "cell_type": "code",
   "execution_count": 26,
   "id": "f545917b",
   "metadata": {
    "ExecuteTime": {
     "end_time": "2023-10-08T12:48:28.913835500Z",
     "start_time": "2023-10-08T12:48:28.869981900Z"
    }
   },
   "outputs": [],
   "source": [
    "first_url = 'https://www.imdb.com/search/title/?title_type=feature&num_votes=10000,&sort=user_rating,desc&ref_=adv_prv'"
   ]
  },
  {
   "cell_type": "code",
   "execution_count": 27,
   "id": "89b0172d",
   "metadata": {
    "ExecuteTime": {
     "end_time": "2023-10-08T12:48:30.206428600Z",
     "start_time": "2023-10-08T12:48:28.886927300Z"
    }
   },
   "outputs": [
    {
     "data": {
      "text/plain": "<div class=\"lister-item mode-advanced\">\n<div class=\"lister-top-right\">\n<div class=\"ribbonize\" data-caller=\"filmosearch\" data-tconst=\"tt0111161\"></div>\n</div>\n<div class=\"lister-item-image float-left\">\n<a href=\"/title/tt0111161/\"> <img alt=\"The Shawshank Redemption\" class=\"loadlate\" data-tconst=\"tt0111161\" height=\"98\" loadlate=\"https://m.media-amazon.com/images/M/MV5BNDE3ODcxYzMtY2YzZC00NmNlLWJiNDMtZDViZWM2MzIxZDYwXkEyXkFqcGdeQXVyNjAwNDUxODI@._V1_UX67_CR0,0,67,98_AL_.jpg\" src=\"https://m.media-amazon.com/images/S/sash/4FyxwxECzL-U1J8.png\" width=\"67\"/>\n</a> </div>\n<div class=\"lister-item-content\">\n<h3 class=\"lister-item-header\">\n<span class=\"lister-item-index unbold text-primary\">1.</span>\n<a href=\"/title/tt0111161/\">The Shawshank Redemption</a>\n<span class=\"lister-item-year text-muted unbold\">(1994)</span>\n</h3>\n<p class=\"text-muted\">\n<span class=\"certificate\">13+</span>\n<span class=\"ghost\">|</span>\n<span class=\"runtime\">142 min</span>\n<span class=\"ghost\">|</span>\n<span class=\"genre\">\nDrama            </span>\n</p>\n<div class=\"ratings-bar\">\n<div class=\"inline-block ratings-imdb-rating\" data-value=\"9.3\" name=\"ir\">\n<span class=\"global-sprite rating-star imdb-rating\"></span>\n<strong>9.3</strong>\n</div>\n<div class=\"inline-block ratings-user-rating\">\n<span class=\"userRatingValue\" data-tconst=\"tt0111161\" id=\"urv_tt0111161\">\n<span class=\"global-sprite rating-star no-rating\"></span>\n<span class=\"rate\" data-no-rating=\"Rate this\" data-value=\"0\" name=\"ur\">Rate this</span>\n</span>\n<div class=\"starBarWidget\" id=\"sb_tt0111161\">\n<div class=\"rating rating-list\" data-csrf-token=\"\" data-ga-identifier=\"\" data-starbar-class=\"rating-list\" data-user=\"\" id=\"tt0111161|imdb|9.3|9.3|adv_li_tt||advsearch|title\" itemprop=\"aggregateRating\" itemscope=\"\" itemtype=\"http://schema.org/AggregateRating\" title=\"Users rated this 9.3/10 (2,805,892 votes) - click stars to rate\">\n<meta content=\"9.3\" itemprop=\"ratingValue\"/>\n<meta content=\"10\" itemprop=\"bestRating\"/>\n<meta content=\"2805892\" itemprop=\"ratingCount\"/>\n<span class=\"rating-bg\"> </span>\n<span class=\"rating-imdb\" style=\"width: 130.2px\"> </span>\n<span class=\"rating-stars\">\n<a href=\"/register/login?why=vote\" rel=\"nofollow\" title=\"Register or login to rate this title\"><span>1</span></a>\n<a href=\"/register/login?why=vote\" rel=\"nofollow\" title=\"Register or login to rate this title\"><span>2</span></a>\n<a href=\"/register/login?why=vote\" rel=\"nofollow\" title=\"Register or login to rate this title\"><span>3</span></a>\n<a href=\"/register/login?why=vote\" rel=\"nofollow\" title=\"Register or login to rate this title\"><span>4</span></a>\n<a href=\"/register/login?why=vote\" rel=\"nofollow\" title=\"Register or login to rate this title\"><span>5</span></a>\n<a href=\"/register/login?why=vote\" rel=\"nofollow\" title=\"Register or login to rate this title\"><span>6</span></a>\n<a href=\"/register/login?why=vote\" rel=\"nofollow\" title=\"Register or login to rate this title\"><span>7</span></a>\n<a href=\"/register/login?why=vote\" rel=\"nofollow\" title=\"Register or login to rate this title\"><span>8</span></a>\n<a href=\"/register/login?why=vote\" rel=\"nofollow\" title=\"Register or login to rate this title\"><span>9</span></a>\n<a href=\"/register/login?why=vote\" rel=\"nofollow\" title=\"Register or login to rate this title\"><span>10</span></a>\n</span>\n<span class=\"rating-rating\"><span class=\"value\">9.3</span><span class=\"grey\">/</span><span class=\"grey\">10</span></span>\n<span class=\"rating-cancel\"><a href=\"/title/tt0111161/vote\" rel=\"nofollow\" title=\"Delete\"><span>X</span></a></span>\n </div>\n</div>\n</div>\n<div class=\"inline-block ratings-metascore\">\n<span class=\"metascore favorable\">82        </span>\n        Metascore\n            </div>\n</div>\n<p class=\"text-muted\">\nOver the course of several years, two convicts form a friendship, seeking consolation and, eventually, redemption through basic compassion.</p>\n<p class=\"\">\n    Director:\n<a href=\"/name/nm0001104/\">Frank Darabont</a>\n<span class=\"ghost\">|</span> \n    Stars:\n<a href=\"/name/nm0000209/\">Tim Robbins</a>, \n<a href=\"/name/nm0000151/\">Morgan Freeman</a>, \n<a href=\"/name/nm0348409/\">Bob Gunton</a>, \n<a href=\"/name/nm0006669/\">William Sadler</a>\n</p>\n<p class=\"sort-num_votes-visible\">\n<span class=\"text-muted\">Votes:</span>\n<span data-value=\"2805892\" name=\"nv\">2,805,892</span>\n<span class=\"ghost\">|</span> <span class=\"text-muted\">Gross:</span>\n<span data-value=\"28,341,469\" name=\"nv\">$28.34M</span>\n</p>\n</div>\n</div>"
     },
     "execution_count": 27,
     "metadata": {},
     "output_type": "execute_result"
    }
   ],
   "source": [
    "page = requests.get(first_url)\n",
    "soup = BeautifulSoup(page.content, \"html.parser\")\n",
    "scraped_movies = soup.find_all('div', class_='lister-item')\n",
    "scraped_movies[0]"
   ]
  },
  {
   "cell_type": "code",
   "execution_count": 28,
   "id": "1b627a0b",
   "metadata": {
    "ExecuteTime": {
     "end_time": "2023-10-08T12:48:30.250872600Z",
     "start_time": "2023-10-08T12:48:30.211743Z"
    }
   },
   "outputs": [],
   "source": [
    "def get_data(scraped_movies):\n",
    "    ls = []\n",
    "\n",
    "    for movie in scraped_movies:\n",
    "        try:\n",
    "            img_url = movie.find_all('div', class_='lister-item-image')[0].find_all('img', src=True)[0]['loadlate']\n",
    "            title =  movie.find_all('div', class_='lister-item-image')[0].find_all('img', src=True)[0]['alt']\n",
    "            year = movie.find_all('span', class_='lister-item-year')[0].get_text()\n",
    "            try:\n",
    "                certificate = movie.find_all('span', class_='certificate')[0].get_text()\n",
    "            except:\n",
    "                certificate = None\n",
    "            duration = movie.find_all('span', class_='runtime')[0].get_text()\n",
    "            genre = movie.find_all('span', class_='genre')[0].get_text()\n",
    "            imdb = movie.find_all('div', class_='ratings-bar')[0].find_all('strong')[0].get_text()\n",
    "            try:\n",
    "                metascore = movie.find_all('span', class_='metascore')[0].get_text()\n",
    "            except:\n",
    "                metascore = None\n",
    "            overview = movie.find_all('p', class_='text-muted')[1].get_text()\n",
    "            director = movie.find_all('p', class_='')[0].find_all('a')[0].get_text()\n",
    "            actors = []\n",
    "            k = 0\n",
    "            for actor in movie.find_all('p', class_='')[0].find_all('a'):\n",
    "                if k != 0:\n",
    "                    actors.append(actor.get_text())\n",
    "                k += 1\n",
    "            actors = \",\".join(actors)\n",
    "\n",
    "            tmp_ls = [img_url, title, year, certificate, duration, genre, imdb, metascore, overview, director, actors]\n",
    "            ls.append(tmp_ls)\n",
    "        except:\n",
    "            print(title)\n",
    "\n",
    "    return ls"
   ]
  },
  {
   "cell_type": "code",
   "execution_count": 29,
   "id": "9ed7935e",
   "metadata": {
    "ExecuteTime": {
     "end_time": "2023-10-08T12:53:35.058510400Z",
     "start_time": "2023-10-08T12:48:30.223787300Z"
    }
   },
   "outputs": [
    {
     "name": "stdout",
     "output_type": "stream",
     "text": [
      "1000\n",
      "2000\n",
      "3000\n",
      "4000\n",
      "5000\n",
      "6000\n",
      "7000\n",
      "8000\n",
      "9000\n",
      "10000\n",
      "finished\n"
     ]
    }
   ],
   "source": [
    "i = 0\n",
    "ls = []\n",
    "while True:\n",
    "    if i == 0:\n",
    "        page = requests.get(first_url)\n",
    "        soup = BeautifulSoup(page.content, \"html.parser\")\n",
    "        scraped_movies = soup.find_all('div', class_='lister-item')\n",
    "        ls = get_data(scraped_movies)\n",
    "    else:\n",
    "        url = f\"https://www.imdb.com/search/title/?title_type=feature&num_votes=10000,&sort=user_rating,desc&start={i+1}&ref_=adv_nxt\"\n",
    "        page = requests.get(url)\n",
    "        soup = BeautifulSoup(page.content, \"html.parser\")\n",
    "        scraped_movies = soup.find_all('div', class_='lister-item')\n",
    "        tmp_ls = get_data(scraped_movies)\n",
    "        ls = ls + tmp_ls\n",
    "    i += 50\n",
    "    if i%1000==0:\n",
    "        print(i)\n",
    "    if i == 10000:\n",
    "        print(\"finished\")\n",
    "        break"
   ]
  },
  {
   "cell_type": "code",
   "execution_count": 30,
   "id": "2a644d3b",
   "metadata": {
    "ExecuteTime": {
     "end_time": "2023-10-08T12:53:35.073474600Z",
     "start_time": "2023-10-08T12:53:35.059507200Z"
    }
   },
   "outputs": [],
   "source": [
    "df = pd.DataFrame(ls, columns=[\"img_url\", \"title\", \"year\", \"certificate\", \"duration\", \"genre\", \"imdb\", \"metascore\", \"overview\", \"director\", \"actors\"])"
   ]
  },
  {
   "cell_type": "code",
   "execution_count": 31,
   "id": "e18ff951",
   "metadata": {
    "ExecuteTime": {
     "end_time": "2023-10-08T12:53:35.105369100Z",
     "start_time": "2023-10-08T12:53:35.074470900Z"
    }
   },
   "outputs": [
    {
     "data": {
      "text/plain": "img_url           0\ntitle             0\nyear              0\ncertificate    3013\nduration          0\ngenre             0\nimdb              0\nmetascore      2021\noverview          0\ndirector          0\nactors            0\ndtype: int64"
     },
     "execution_count": 31,
     "metadata": {},
     "output_type": "execute_result"
    }
   ],
   "source": [
    "df.isna().sum()"
   ]
  },
  {
   "cell_type": "code",
   "execution_count": 32,
   "id": "c54014b0",
   "metadata": {
    "ExecuteTime": {
     "end_time": "2023-10-08T12:53:35.109356200Z",
     "start_time": "2023-10-08T12:53:35.091416Z"
    }
   },
   "outputs": [
    {
     "data": {
      "text/plain": "                                             img_url  \\\n0  https://m.media-amazon.com/images/M/MV5BNDE3OD...   \n1  https://m.media-amazon.com/images/M/MV5BM2MyNj...   \n\n                      title    year certificate duration  \\\n0  The Shawshank Redemption  (1994)         13+  142 min   \n1             The Godfather  (1972)         18+  175 min   \n\n                        genre imdb    metascore  \\\n0         \\nDrama              9.3   82           \n1  \\nCrime, Drama              9.2  100           \n\n                                            overview              director  \\\n0  \\nOver the course of several years, two convic...        Frank Darabont   \n1  \\nDon Vito Corleone, head of a mafia family, d...  Francis Ford Coppola   \n\n                                              actors  \n0  Tim Robbins,Morgan Freeman,Bob Gunton,William ...  \n1    Marlon Brando,Al Pacino,James Caan,Diane Keaton  ",
      "text/html": "<div>\n<style scoped>\n    .dataframe tbody tr th:only-of-type {\n        vertical-align: middle;\n    }\n\n    .dataframe tbody tr th {\n        vertical-align: top;\n    }\n\n    .dataframe thead th {\n        text-align: right;\n    }\n</style>\n<table border=\"1\" class=\"dataframe\">\n  <thead>\n    <tr style=\"text-align: right;\">\n      <th></th>\n      <th>img_url</th>\n      <th>title</th>\n      <th>year</th>\n      <th>certificate</th>\n      <th>duration</th>\n      <th>genre</th>\n      <th>imdb</th>\n      <th>metascore</th>\n      <th>overview</th>\n      <th>director</th>\n      <th>actors</th>\n    </tr>\n  </thead>\n  <tbody>\n    <tr>\n      <th>0</th>\n      <td>https://m.media-amazon.com/images/M/MV5BNDE3OD...</td>\n      <td>The Shawshank Redemption</td>\n      <td>(1994)</td>\n      <td>13+</td>\n      <td>142 min</td>\n      <td>\\nDrama</td>\n      <td>9.3</td>\n      <td>82</td>\n      <td>\\nOver the course of several years, two convic...</td>\n      <td>Frank Darabont</td>\n      <td>Tim Robbins,Morgan Freeman,Bob Gunton,William ...</td>\n    </tr>\n    <tr>\n      <th>1</th>\n      <td>https://m.media-amazon.com/images/M/MV5BM2MyNj...</td>\n      <td>The Godfather</td>\n      <td>(1972)</td>\n      <td>18+</td>\n      <td>175 min</td>\n      <td>\\nCrime, Drama</td>\n      <td>9.2</td>\n      <td>100</td>\n      <td>\\nDon Vito Corleone, head of a mafia family, d...</td>\n      <td>Francis Ford Coppola</td>\n      <td>Marlon Brando,Al Pacino,James Caan,Diane Keaton</td>\n    </tr>\n  </tbody>\n</table>\n</div>"
     },
     "execution_count": 32,
     "metadata": {},
     "output_type": "execute_result"
    }
   ],
   "source": [
    "df.head(2)"
   ]
  },
  {
   "cell_type": "code",
   "execution_count": 33,
   "id": "91c2cb07",
   "metadata": {
    "ExecuteTime": {
     "end_time": "2023-10-08T12:53:35.121262800Z",
     "start_time": "2023-10-08T12:53:35.105369100Z"
    }
   },
   "outputs": [],
   "source": [
    "df['year'] = df['year'].apply(lambda x : x[1:5])"
   ]
  },
  {
   "cell_type": "code",
   "execution_count": 34,
   "id": "fa700dbb",
   "metadata": {
    "ExecuteTime": {
     "end_time": "2023-10-08T12:53:35.147168600Z",
     "start_time": "2023-10-08T12:53:35.126239900Z"
    }
   },
   "outputs": [
    {
     "data": {
      "text/plain": "array(['13+', '18+', 'PG', '16+', '15+', None, '7+', '6+', '13A',\n       'Not Rated', 'G', 'R', '15A', 'PG-13', '10+', '7A', 'M/PG', '10A',\n       'DİKKAT', 'M', '6A', 'NC-17', 'GP', 'Approved', 'Unrated',\n       'YETİŞKİN', '7+13A', '14+'], dtype=object)"
     },
     "execution_count": 34,
     "metadata": {},
     "output_type": "execute_result"
    }
   ],
   "source": [
    "df['certificate'].unique()"
   ]
  },
  {
   "cell_type": "code",
   "execution_count": 35,
   "id": "5974236e",
   "metadata": {
    "ExecuteTime": {
     "end_time": "2023-10-08T12:53:35.177068200Z",
     "start_time": "2023-10-08T12:53:35.138199400Z"
    }
   },
   "outputs": [],
   "source": [
    "df['genre'] = df['genre'].apply(lambda x : x.split('\\n')[1])"
   ]
  },
  {
   "cell_type": "code",
   "execution_count": 36,
   "id": "98556606",
   "metadata": {
    "ExecuteTime": {
     "end_time": "2023-10-08T12:53:35.222977500Z",
     "start_time": "2023-10-08T12:53:35.152152300Z"
    }
   },
   "outputs": [],
   "source": [
    "df['overview'] = df['overview'].apply(lambda x : x.split('\\n')[1])"
   ]
  },
  {
   "cell_type": "code",
   "execution_count": 37,
   "id": "be2a8f9c",
   "metadata": {
    "ExecuteTime": {
     "end_time": "2023-10-08T12:53:35.222977500Z",
     "start_time": "2023-10-08T12:53:35.177068200Z"
    }
   },
   "outputs": [],
   "source": [
    "df['actors'] = df['actors'].apply(lambda x : \"\\t\".join((x.split(','))))"
   ]
  },
  {
   "cell_type": "code",
   "execution_count": 38,
   "id": "0a25e588",
   "metadata": {
    "ExecuteTime": {
     "end_time": "2023-10-08T12:53:35.290689200Z",
     "start_time": "2023-10-08T12:53:35.184045600Z"
    }
   },
   "outputs": [],
   "source": [
    "df.to_csv('data.csv', index=False)"
   ]
  },
  {
   "cell_type": "code",
   "execution_count": 39,
   "id": "49c0b699",
   "metadata": {
    "ExecuteTime": {
     "end_time": "2023-10-08T12:53:35.306636200Z",
     "start_time": "2023-10-08T12:53:35.290689200Z"
    }
   },
   "outputs": [
    {
     "name": "stdout",
     "output_type": "stream",
     "text": [
      "<class 'pandas.core.frame.DataFrame'>\n",
      "RangeIndex: 10000 entries, 0 to 9999\n",
      "Data columns (total 11 columns):\n",
      " #   Column       Non-Null Count  Dtype \n",
      "---  ------       --------------  ----- \n",
      " 0   img_url      10000 non-null  object\n",
      " 1   title        10000 non-null  object\n",
      " 2   year         10000 non-null  object\n",
      " 3   certificate  6987 non-null   object\n",
      " 4   duration     10000 non-null  object\n",
      " 5   genre        10000 non-null  object\n",
      " 6   imdb         10000 non-null  object\n",
      " 7   metascore    7979 non-null   object\n",
      " 8   overview     10000 non-null  object\n",
      " 9   director     10000 non-null  object\n",
      " 10  actors       10000 non-null  object\n",
      "dtypes: object(11)\n",
      "memory usage: 859.5+ KB\n"
     ]
    }
   ],
   "source": [
    "df.info()"
   ]
  },
  {
   "cell_type": "code",
   "execution_count": 40,
   "id": "5e3f9da1",
   "metadata": {
    "ExecuteTime": {
     "end_time": "2023-10-08T12:53:35.337532800Z",
     "start_time": "2023-10-08T12:53:35.306636200Z"
    }
   },
   "outputs": [
    {
     "data": {
      "text/plain": "                                             img_url  \\\n0  https://m.media-amazon.com/images/M/MV5BNDE3OD...   \n1  https://m.media-amazon.com/images/M/MV5BM2MyNj...   \n2  https://m.media-amazon.com/images/M/MV5BNTJjZT...   \n3  https://m.media-amazon.com/images/M/MV5BMGRjOG...   \n4  https://m.media-amazon.com/images/M/MV5BMTMxNT...   \n\n                                 title  year certificate duration  \\\n0             The Shawshank Redemption  1994         13+  142 min   \n1                        The Godfather  1972         18+  175 min   \n2  Ramayana: The Legend of Prince Rama  1993          PG  135 min   \n3                       Hababam Sinifi  1975         18+   87 min   \n4                      The Dark Knight  2008         16+  152 min   \n\n                                      genre imdb    metascore  \\\n0                         Drama              9.3   82           \n1                  Crime, Drama              9.2  100           \n2  Animation, Action, Adventure              9.2         None   \n3                 Comedy, Drama              9.2         None   \n4          Action, Crime, Drama              9.0   84           \n\n                                            overview              director  \\\n0  Over the course of several years, two convicts...        Frank Darabont   \n1  Don Vito Corleone, head of a mafia family, dec...  Francis Ford Coppola   \n2  An anime adaptation of the Hindu epic the Rama...             Ram Mohan   \n3  Lazy, uneducated students share a very close b...         Ertem Egilmez   \n4  When the menace known as the Joker wreaks havo...     Christopher Nolan   \n\n                                              actors  \n0  Tim Robbins\\tMorgan Freeman\\tBob Gunton\\tWilli...  \n1  Marlon Brando\\tAl Pacino\\tJames Caan\\tDiane Ke...  \n2  Yûgô Sakô\\tKoichi Saski\\tArun Govil\\tNikhil Ka...  \n3  Kemal Sunal\\tMünir Özkul\\tHalit Akçatepe\\tTari...  \n4  Christian Bale\\tHeath Ledger\\tAaron Eckhart\\tM...  ",
      "text/html": "<div>\n<style scoped>\n    .dataframe tbody tr th:only-of-type {\n        vertical-align: middle;\n    }\n\n    .dataframe tbody tr th {\n        vertical-align: top;\n    }\n\n    .dataframe thead th {\n        text-align: right;\n    }\n</style>\n<table border=\"1\" class=\"dataframe\">\n  <thead>\n    <tr style=\"text-align: right;\">\n      <th></th>\n      <th>img_url</th>\n      <th>title</th>\n      <th>year</th>\n      <th>certificate</th>\n      <th>duration</th>\n      <th>genre</th>\n      <th>imdb</th>\n      <th>metascore</th>\n      <th>overview</th>\n      <th>director</th>\n      <th>actors</th>\n    </tr>\n  </thead>\n  <tbody>\n    <tr>\n      <th>0</th>\n      <td>https://m.media-amazon.com/images/M/MV5BNDE3OD...</td>\n      <td>The Shawshank Redemption</td>\n      <td>1994</td>\n      <td>13+</td>\n      <td>142 min</td>\n      <td>Drama</td>\n      <td>9.3</td>\n      <td>82</td>\n      <td>Over the course of several years, two convicts...</td>\n      <td>Frank Darabont</td>\n      <td>Tim Robbins\\tMorgan Freeman\\tBob Gunton\\tWilli...</td>\n    </tr>\n    <tr>\n      <th>1</th>\n      <td>https://m.media-amazon.com/images/M/MV5BM2MyNj...</td>\n      <td>The Godfather</td>\n      <td>1972</td>\n      <td>18+</td>\n      <td>175 min</td>\n      <td>Crime, Drama</td>\n      <td>9.2</td>\n      <td>100</td>\n      <td>Don Vito Corleone, head of a mafia family, dec...</td>\n      <td>Francis Ford Coppola</td>\n      <td>Marlon Brando\\tAl Pacino\\tJames Caan\\tDiane Ke...</td>\n    </tr>\n    <tr>\n      <th>2</th>\n      <td>https://m.media-amazon.com/images/M/MV5BNTJjZT...</td>\n      <td>Ramayana: The Legend of Prince Rama</td>\n      <td>1993</td>\n      <td>PG</td>\n      <td>135 min</td>\n      <td>Animation, Action, Adventure</td>\n      <td>9.2</td>\n      <td>None</td>\n      <td>An anime adaptation of the Hindu epic the Rama...</td>\n      <td>Ram Mohan</td>\n      <td>Yûgô Sakô\\tKoichi Saski\\tArun Govil\\tNikhil Ka...</td>\n    </tr>\n    <tr>\n      <th>3</th>\n      <td>https://m.media-amazon.com/images/M/MV5BMGRjOG...</td>\n      <td>Hababam Sinifi</td>\n      <td>1975</td>\n      <td>18+</td>\n      <td>87 min</td>\n      <td>Comedy, Drama</td>\n      <td>9.2</td>\n      <td>None</td>\n      <td>Lazy, uneducated students share a very close b...</td>\n      <td>Ertem Egilmez</td>\n      <td>Kemal Sunal\\tMünir Özkul\\tHalit Akçatepe\\tTari...</td>\n    </tr>\n    <tr>\n      <th>4</th>\n      <td>https://m.media-amazon.com/images/M/MV5BMTMxNT...</td>\n      <td>The Dark Knight</td>\n      <td>2008</td>\n      <td>16+</td>\n      <td>152 min</td>\n      <td>Action, Crime, Drama</td>\n      <td>9.0</td>\n      <td>84</td>\n      <td>When the menace known as the Joker wreaks havo...</td>\n      <td>Christopher Nolan</td>\n      <td>Christian Bale\\tHeath Ledger\\tAaron Eckhart\\tM...</td>\n    </tr>\n  </tbody>\n</table>\n</div>"
     },
     "execution_count": 40,
     "metadata": {},
     "output_type": "execute_result"
    }
   ],
   "source": [
    "df.head(5)"
   ]
  },
  {
   "cell_type": "code",
   "execution_count": 40,
   "id": "6475e7f9",
   "metadata": {
    "ExecuteTime": {
     "end_time": "2023-10-08T12:53:35.342515Z",
     "start_time": "2023-10-08T12:53:35.324577200Z"
    }
   },
   "outputs": [],
   "source": []
  },
  {
   "cell_type": "code",
   "execution_count": 40,
   "outputs": [],
   "source": [],
   "metadata": {
    "collapsed": false,
    "ExecuteTime": {
     "end_time": "2023-10-08T12:53:35.360459500Z",
     "start_time": "2023-10-08T12:53:35.339525700Z"
    }
   }
  }
 ],
 "metadata": {
  "kernelspec": {
   "display_name": "Python 3 (ipykernel)",
   "language": "python",
   "name": "python3"
  },
  "language_info": {
   "codemirror_mode": {
    "name": "ipython",
    "version": 3
   },
   "file_extension": ".py",
   "mimetype": "text/x-python",
   "name": "python",
   "nbconvert_exporter": "python",
   "pygments_lexer": "ipython3",
   "version": "3.9.13"
  }
 },
 "nbformat": 4,
 "nbformat_minor": 5
}
